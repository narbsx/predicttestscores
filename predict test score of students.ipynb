{
 "cells": [
  {
   "cell_type": "code",
   "execution_count": 110,
   "id": "db92a245",
   "metadata": {},
   "outputs": [],
   "source": [
    "import pandas as pd\n",
    "import matplotlib.pyplot as plt\n",
    "import numpy as np\n",
    "import seaborn as sns"
   ]
  },
  {
   "cell_type": "code",
   "execution_count": 111,
   "id": "c756b40b",
   "metadata": {},
   "outputs": [
    {
     "data": {
      "text/html": [
       "<div>\n",
       "<style scoped>\n",
       "    .dataframe tbody tr th:only-of-type {\n",
       "        vertical-align: middle;\n",
       "    }\n",
       "\n",
       "    .dataframe tbody tr th {\n",
       "        vertical-align: top;\n",
       "    }\n",
       "\n",
       "    .dataframe thead th {\n",
       "        text-align: right;\n",
       "    }\n",
       "</style>\n",
       "<table border=\"1\" class=\"dataframe\">\n",
       "  <thead>\n",
       "    <tr style=\"text-align: right;\">\n",
       "      <th></th>\n",
       "      <th>school_setting</th>\n",
       "      <th>school_type</th>\n",
       "      <th>teaching_method</th>\n",
       "      <th>n_student</th>\n",
       "      <th>gender</th>\n",
       "      <th>lunch</th>\n",
       "      <th>pretest</th>\n",
       "      <th>posttest</th>\n",
       "    </tr>\n",
       "  </thead>\n",
       "  <tbody>\n",
       "    <tr>\n",
       "      <th>0</th>\n",
       "      <td>Urban</td>\n",
       "      <td>Non-public</td>\n",
       "      <td>Standard</td>\n",
       "      <td>20.0</td>\n",
       "      <td>Female</td>\n",
       "      <td>Does not qualify</td>\n",
       "      <td>62.0</td>\n",
       "      <td>72.0</td>\n",
       "    </tr>\n",
       "    <tr>\n",
       "      <th>1</th>\n",
       "      <td>Urban</td>\n",
       "      <td>Non-public</td>\n",
       "      <td>Standard</td>\n",
       "      <td>20.0</td>\n",
       "      <td>Female</td>\n",
       "      <td>Does not qualify</td>\n",
       "      <td>66.0</td>\n",
       "      <td>79.0</td>\n",
       "    </tr>\n",
       "    <tr>\n",
       "      <th>2</th>\n",
       "      <td>Urban</td>\n",
       "      <td>Non-public</td>\n",
       "      <td>Standard</td>\n",
       "      <td>20.0</td>\n",
       "      <td>Male</td>\n",
       "      <td>Does not qualify</td>\n",
       "      <td>64.0</td>\n",
       "      <td>76.0</td>\n",
       "    </tr>\n",
       "    <tr>\n",
       "      <th>3</th>\n",
       "      <td>Urban</td>\n",
       "      <td>Non-public</td>\n",
       "      <td>Standard</td>\n",
       "      <td>20.0</td>\n",
       "      <td>Female</td>\n",
       "      <td>Does not qualify</td>\n",
       "      <td>61.0</td>\n",
       "      <td>77.0</td>\n",
       "    </tr>\n",
       "    <tr>\n",
       "      <th>4</th>\n",
       "      <td>Urban</td>\n",
       "      <td>Non-public</td>\n",
       "      <td>Standard</td>\n",
       "      <td>20.0</td>\n",
       "      <td>Male</td>\n",
       "      <td>Does not qualify</td>\n",
       "      <td>64.0</td>\n",
       "      <td>76.0</td>\n",
       "    </tr>\n",
       "    <tr>\n",
       "      <th>...</th>\n",
       "      <td>...</td>\n",
       "      <td>...</td>\n",
       "      <td>...</td>\n",
       "      <td>...</td>\n",
       "      <td>...</td>\n",
       "      <td>...</td>\n",
       "      <td>...</td>\n",
       "      <td>...</td>\n",
       "    </tr>\n",
       "    <tr>\n",
       "      <th>2128</th>\n",
       "      <td>Urban</td>\n",
       "      <td>Public</td>\n",
       "      <td>Standard</td>\n",
       "      <td>30.0</td>\n",
       "      <td>Female</td>\n",
       "      <td>Does not qualify</td>\n",
       "      <td>39.0</td>\n",
       "      <td>55.0</td>\n",
       "    </tr>\n",
       "    <tr>\n",
       "      <th>2129</th>\n",
       "      <td>Urban</td>\n",
       "      <td>Public</td>\n",
       "      <td>Standard</td>\n",
       "      <td>30.0</td>\n",
       "      <td>Female</td>\n",
       "      <td>Qualifies for reduced/free lunch</td>\n",
       "      <td>38.0</td>\n",
       "      <td>46.0</td>\n",
       "    </tr>\n",
       "    <tr>\n",
       "      <th>2130</th>\n",
       "      <td>Urban</td>\n",
       "      <td>Public</td>\n",
       "      <td>Standard</td>\n",
       "      <td>30.0</td>\n",
       "      <td>Female</td>\n",
       "      <td>Qualifies for reduced/free lunch</td>\n",
       "      <td>45.0</td>\n",
       "      <td>51.0</td>\n",
       "    </tr>\n",
       "    <tr>\n",
       "      <th>2131</th>\n",
       "      <td>Urban</td>\n",
       "      <td>Public</td>\n",
       "      <td>Standard</td>\n",
       "      <td>30.0</td>\n",
       "      <td>Male</td>\n",
       "      <td>Qualifies for reduced/free lunch</td>\n",
       "      <td>46.0</td>\n",
       "      <td>53.0</td>\n",
       "    </tr>\n",
       "    <tr>\n",
       "      <th>2132</th>\n",
       "      <td>Urban</td>\n",
       "      <td>Public</td>\n",
       "      <td>Standard</td>\n",
       "      <td>30.0</td>\n",
       "      <td>Male</td>\n",
       "      <td>Qualifies for reduced/free lunch</td>\n",
       "      <td>41.0</td>\n",
       "      <td>48.0</td>\n",
       "    </tr>\n",
       "  </tbody>\n",
       "</table>\n",
       "<p>2133 rows × 8 columns</p>\n",
       "</div>"
      ],
      "text/plain": [
       "     school_setting school_type teaching_method  n_student  gender  \\\n",
       "0             Urban  Non-public        Standard       20.0  Female   \n",
       "1             Urban  Non-public        Standard       20.0  Female   \n",
       "2             Urban  Non-public        Standard       20.0    Male   \n",
       "3             Urban  Non-public        Standard       20.0  Female   \n",
       "4             Urban  Non-public        Standard       20.0    Male   \n",
       "...             ...         ...             ...        ...     ...   \n",
       "2128          Urban      Public        Standard       30.0  Female   \n",
       "2129          Urban      Public        Standard       30.0  Female   \n",
       "2130          Urban      Public        Standard       30.0  Female   \n",
       "2131          Urban      Public        Standard       30.0    Male   \n",
       "2132          Urban      Public        Standard       30.0    Male   \n",
       "\n",
       "                                 lunch  pretest  posttest  \n",
       "0                     Does not qualify     62.0      72.0  \n",
       "1                     Does not qualify     66.0      79.0  \n",
       "2                     Does not qualify     64.0      76.0  \n",
       "3                     Does not qualify     61.0      77.0  \n",
       "4                     Does not qualify     64.0      76.0  \n",
       "...                                ...      ...       ...  \n",
       "2128                  Does not qualify     39.0      55.0  \n",
       "2129  Qualifies for reduced/free lunch     38.0      46.0  \n",
       "2130  Qualifies for reduced/free lunch     45.0      51.0  \n",
       "2131  Qualifies for reduced/free lunch     46.0      53.0  \n",
       "2132  Qualifies for reduced/free lunch     41.0      48.0  \n",
       "\n",
       "[2133 rows x 8 columns]"
      ]
     },
     "execution_count": 111,
     "metadata": {},
     "output_type": "execute_result"
    }
   ],
   "source": [
    "df = pd.read_csv(\"test_scores.csv\")\n",
    "df = df.drop([\"student_id\", \"school\", \"classroom\"], axis=1) \n",
    "df"
   ]
  },
  {
   "cell_type": "code",
   "execution_count": 112,
   "id": "1c2f8dd8",
   "metadata": {},
   "outputs": [
    {
     "data": {
      "text/html": [
       "<div>\n",
       "<style scoped>\n",
       "    .dataframe tbody tr th:only-of-type {\n",
       "        vertical-align: middle;\n",
       "    }\n",
       "\n",
       "    .dataframe tbody tr th {\n",
       "        vertical-align: top;\n",
       "    }\n",
       "\n",
       "    .dataframe thead th {\n",
       "        text-align: right;\n",
       "    }\n",
       "</style>\n",
       "<table border=\"1\" class=\"dataframe\">\n",
       "  <thead>\n",
       "    <tr style=\"text-align: right;\">\n",
       "      <th></th>\n",
       "      <th>n_student</th>\n",
       "      <th>pretest</th>\n",
       "      <th>posttest</th>\n",
       "    </tr>\n",
       "  </thead>\n",
       "  <tbody>\n",
       "    <tr>\n",
       "      <th>count</th>\n",
       "      <td>2133.000000</td>\n",
       "      <td>2133.000000</td>\n",
       "      <td>2133.000000</td>\n",
       "    </tr>\n",
       "    <tr>\n",
       "      <th>mean</th>\n",
       "      <td>22.796531</td>\n",
       "      <td>54.955931</td>\n",
       "      <td>67.102203</td>\n",
       "    </tr>\n",
       "    <tr>\n",
       "      <th>std</th>\n",
       "      <td>4.228893</td>\n",
       "      <td>13.563101</td>\n",
       "      <td>13.986789</td>\n",
       "    </tr>\n",
       "    <tr>\n",
       "      <th>min</th>\n",
       "      <td>14.000000</td>\n",
       "      <td>22.000000</td>\n",
       "      <td>32.000000</td>\n",
       "    </tr>\n",
       "    <tr>\n",
       "      <th>25%</th>\n",
       "      <td>20.000000</td>\n",
       "      <td>44.000000</td>\n",
       "      <td>56.000000</td>\n",
       "    </tr>\n",
       "    <tr>\n",
       "      <th>50%</th>\n",
       "      <td>22.000000</td>\n",
       "      <td>56.000000</td>\n",
       "      <td>68.000000</td>\n",
       "    </tr>\n",
       "    <tr>\n",
       "      <th>75%</th>\n",
       "      <td>27.000000</td>\n",
       "      <td>65.000000</td>\n",
       "      <td>77.000000</td>\n",
       "    </tr>\n",
       "    <tr>\n",
       "      <th>max</th>\n",
       "      <td>31.000000</td>\n",
       "      <td>93.000000</td>\n",
       "      <td>100.000000</td>\n",
       "    </tr>\n",
       "  </tbody>\n",
       "</table>\n",
       "</div>"
      ],
      "text/plain": [
       "         n_student      pretest     posttest\n",
       "count  2133.000000  2133.000000  2133.000000\n",
       "mean     22.796531    54.955931    67.102203\n",
       "std       4.228893    13.563101    13.986789\n",
       "min      14.000000    22.000000    32.000000\n",
       "25%      20.000000    44.000000    56.000000\n",
       "50%      22.000000    56.000000    68.000000\n",
       "75%      27.000000    65.000000    77.000000\n",
       "max      31.000000    93.000000   100.000000"
      ]
     },
     "execution_count": 112,
     "metadata": {},
     "output_type": "execute_result"
    }
   ],
   "source": [
    "df.describe() # average number of students in class is 22.8 "
   ]
  },
  {
   "cell_type": "code",
   "execution_count": 101,
   "id": "ebc2d8f4",
   "metadata": {},
   "outputs": [],
   "source": [
    "x = df.iloc[:, :-1]\n",
    "y = df.iloc[:, -1]"
   ]
  },
  {
   "cell_type": "code",
   "execution_count": 32,
   "id": "ba9ee447",
   "metadata": {},
   "outputs": [
    {
     "name": "stdout",
     "output_type": "stream",
     "text": [
      "     school_setting school_type teaching_method  n_student  gender  \\\n",
      "0             Urban  Non-public        Standard       20.0  Female   \n",
      "1             Urban  Non-public        Standard       20.0  Female   \n",
      "2             Urban  Non-public        Standard       20.0    Male   \n",
      "3             Urban  Non-public        Standard       20.0  Female   \n",
      "4             Urban  Non-public        Standard       20.0    Male   \n",
      "...             ...         ...             ...        ...     ...   \n",
      "2128          Urban      Public        Standard       30.0  Female   \n",
      "2129          Urban      Public        Standard       30.0  Female   \n",
      "2130          Urban      Public        Standard       30.0  Female   \n",
      "2131          Urban      Public        Standard       30.0    Male   \n",
      "2132          Urban      Public        Standard       30.0    Male   \n",
      "\n",
      "                                 lunch  pretest  \n",
      "0                     Does not qualify     62.0  \n",
      "1                     Does not qualify     66.0  \n",
      "2                     Does not qualify     64.0  \n",
      "3                     Does not qualify     61.0  \n",
      "4                     Does not qualify     64.0  \n",
      "...                                ...      ...  \n",
      "2128                  Does not qualify     39.0  \n",
      "2129  Qualifies for reduced/free lunch     38.0  \n",
      "2130  Qualifies for reduced/free lunch     45.0  \n",
      "2131  Qualifies for reduced/free lunch     46.0  \n",
      "2132  Qualifies for reduced/free lunch     41.0  \n",
      "\n",
      "[2133 rows x 7 columns]\n"
     ]
    }
   ],
   "source": [
    "print(x) # Independent Variables(What we are using to predict test scores)"
   ]
  },
  {
   "cell_type": "code",
   "execution_count": 33,
   "id": "70a8f324",
   "metadata": {},
   "outputs": [
    {
     "name": "stdout",
     "output_type": "stream",
     "text": [
      "0       72.0\n",
      "1       79.0\n",
      "2       76.0\n",
      "3       77.0\n",
      "4       76.0\n",
      "        ... \n",
      "2128    55.0\n",
      "2129    46.0\n",
      "2130    51.0\n",
      "2131    53.0\n",
      "2132    48.0\n",
      "Name: posttest, Length: 2133, dtype: float64\n"
     ]
    }
   ],
   "source": [
    "print(y) # Dependent Variable, (Actual Score)"
   ]
  },
  {
   "cell_type": "code",
   "execution_count": 34,
   "id": "b12ba852",
   "metadata": {},
   "outputs": [
    {
     "data": {
      "text/plain": [
       "<AxesSubplot:xlabel='count', ylabel='school_setting'>"
      ]
     },
     "execution_count": 34,
     "metadata": {},
     "output_type": "execute_result"
    },
    {
     "data": {
      "image/png": "[encoded data removed]",
      "text/plain": [
       "<Figure size 432x288 with 1 Axes>"
      ]
     },
     "metadata": {
      "needs_background": "light"
     },
     "output_type": "display_data"
    }
   ],
   "source": [
    "sns.countplot(y= df.school_setting) # Majority schools Urban"
   ]
  },
  {
   "cell_type": "code",
   "execution_count": 13,
   "id": "2bf8864c",
   "metadata": {},
   "outputs": [
    {
     "data": {
      "text/plain": [
       "<AxesSubplot:xlabel='count', ylabel='school_type'>"
      ]
     },
     "execution_count": 13,
     "metadata": {},
     "output_type": "execute_result"
    },
    {
     "data": {
      "image/png": "[encoded data removed]",
      "text/plain": [
       "<Figure size 432x288 with 1 Axes>"
      ]
     },
     "metadata": {
      "needs_background": "light"
     },
     "output_type": "display_data"
    }
   ],
   "source": [
    "sns.countplot(y= df.school_type) # Majority schools Public"
   ]
  },
  {
   "cell_type": "code",
   "execution_count": 14,
   "id": "d29a849f",
   "metadata": {},
   "outputs": [
    {
     "data": {
      "text/plain": [
       "<AxesSubplot:xlabel='count', ylabel='teaching_method'>"
      ]
     },
     "execution_count": 14,
     "metadata": {},
     "output_type": "execute_result"
    },
    {
     "data": {
      "image/png": "[encoded data removed]",
      "text/plain": [
       "<Figure size 432x288 with 1 Axes>"
      ]
     },
     "metadata": {
      "needs_background": "light"
     },
     "output_type": "display_data"
    }
   ],
   "source": [
    "sns.countplot(y= df.teaching_method) # Majority standard teaching method"
   ]
  },
  {
   "cell_type": "code",
   "execution_count": 15,
   "id": "8900c69d",
   "metadata": {},
   "outputs": [
    {
     "data": {
      "text/plain": [
       "<AxesSubplot:xlabel='count', ylabel='gender'>"
      ]
     },
     "execution_count": 15,
     "metadata": {},
     "output_type": "execute_result"
    },
    {
     "data": {
      "image/png": "[encoded data removed]",
      "text/plain": [
       "<Figure size 432x288 with 1 Axes>"
      ]
     },
     "metadata": {
      "needs_background": "light"
     },
     "output_type": "display_data"
    }
   ],
   "source": [
    "sns.countplot(y= df.gender) # Male and female split mostly evenly"
   ]
  },
  {
   "cell_type": "code",
   "execution_count": 16,
   "id": "2bf89e71",
   "metadata": {
    "scrolled": true
   },
   "outputs": [
    {
     "data": {
      "text/plain": [
       "<AxesSubplot:xlabel='count', ylabel='lunch'>"
      ]
     },
     "execution_count": 16,
     "metadata": {},
     "output_type": "execute_result"
    },
    {
     "data": {
      "image/png": "[encoded data removed]",
      "text/plain": [
       "<Figure size 432x288 with 1 Axes>"
      ]
     },
     "metadata": {
      "needs_background": "light"
     },
     "output_type": "display_data"
    }
   ],
   "source": [
    "sns.countplot(y= df.lunch) # Most students don't qualify for cheaper/ free lunch"
   ]
  },
  {
   "cell_type": "code",
   "execution_count": 77,
   "id": "208dffba",
   "metadata": {},
   "outputs": [
    {
     "data": {
      "text/plain": [
       "array([[ 0.,  0.,  1., ...,  0., 20., 62.],\n",
       "       [ 0.,  0.,  1., ...,  0., 20., 66.],\n",
       "       [ 0.,  0.,  1., ...,  0., 20., 64.],\n",
       "       ...,\n",
       "       [ 0.,  0.,  1., ...,  1., 30., 45.],\n",
       "       [ 0.,  0.,  1., ...,  1., 30., 46.],\n",
       "       [ 0.,  0.,  1., ...,  1., 30., 41.]])"
      ]
     },
     "execution_count": 77,
     "metadata": {},
     "output_type": "execute_result"
    }
   ],
   "source": [
    "from sklearn.compose import ColumnTransformer , make_column_selector\n",
    "from sklearn.preprocessing import OneHotEncoder\n",
    "ct = ColumnTransformer(transformers=[('encoder', OneHotEncoder(), make_column_selector(dtype_include=\"object\"))], remainder='passthrough')\n",
    "X = np.array(ct.fit_transform(x)) \n",
    "X # Encode categorical variables into dummies"
   ]
  },
  {
   "cell_type": "code",
   "execution_count": 67,
   "id": "9b516fe7",
   "metadata": {},
   "outputs": [],
   "source": [
    "from sklearn.model_selection import train_test_split\n",
    "X_train, X_test, y_train, y_test = train_test_split(X, y, test_size = 0.2) # split data test into training set and test set."
   ]
  },
  {
   "cell_type": "code",
   "execution_count": 68,
   "id": "a57928fa",
   "metadata": {},
   "outputs": [
    {
     "data": {
      "text/plain": [
       "LinearRegression()"
      ]
     },
     "execution_count": 68,
     "metadata": {},
     "output_type": "execute_result"
    }
   ],
   "source": [
    "from sklearn.linear_model import LinearRegression\n",
    "regressor = LinearRegression()\n",
    "regressor.fit(X_train, y_train)"
   ]
  },
  {
   "cell_type": "code",
   "execution_count": 115,
   "id": "7c4c71c6",
   "metadata": {},
   "outputs": [
    {
     "name": "stdout",
     "output_type": "stream",
     "text": [
      "[[67.68 68.  ]\n",
      " [57.66 62.  ]\n",
      " [79.65 79.  ]\n",
      " [59.31 66.  ]\n",
      " [68.81 68.  ]\n",
      " [57.98 66.  ]\n",
      " [74.94 78.  ]\n",
      " [44.81 47.  ]\n",
      " [42.1  45.  ]\n",
      " [80.23 83.  ]\n",
      " [92.36 96.  ]\n",
      " [50.09 55.  ]\n",
      " [60.9  59.  ]\n",
      " [62.13 62.  ]\n",
      " [84.09 83.  ]\n",
      " [76.   70.  ]\n",
      " [53.23 50.  ]\n",
      " [45.16 47.  ]\n",
      " [51.41 52.  ]\n",
      " [73.82 77.  ]\n",
      " [59.07 60.  ]\n",
      " [55.65 55.  ]\n",
      " [93.93 93.  ]\n",
      " [79.52 82.  ]\n",
      " [68.75 71.  ]\n",
      " [65.5  72.  ]\n",
      " [63.04 64.  ]\n",
      " [50.56 56.  ]\n",
      " [76.1  74.  ]\n",
      " [68.99 64.  ]\n",
      " [50.59 50.  ]\n",
      " [50.59 49.  ]\n",
      " [68.55 68.  ]\n",
      " [45.24 48.  ]\n",
      " [87.82 90.  ]\n",
      " [54.64 47.  ]\n",
      " [73.71 73.  ]\n",
      " [61.1  58.  ]\n",
      " [49.2  50.  ]\n",
      " [92.28 97.  ]\n",
      " [67.64 74.  ]\n",
      " [56.16 61.  ]\n",
      " [77.06 80.  ]\n",
      " [88.15 94.  ]\n",
      " [73.93 76.  ]\n",
      " [67.78 66.  ]\n",
      " [77.7  75.  ]\n",
      " [87.78 89.  ]\n",
      " [93.82 93.  ]\n",
      " [69.91 74.  ]\n",
      " [59.94 57.  ]\n",
      " [51.42 45.  ]\n",
      " [69.78 66.  ]\n",
      " [85.24 83.  ]\n",
      " [67.86 68.  ]\n",
      " [48.19 48.  ]\n",
      " [62.11 63.  ]\n",
      " [68.15 67.  ]\n",
      " [71.6  71.  ]\n",
      " [60.21 58.  ]\n",
      " [81.28 79.  ]\n",
      " [69.86 75.  ]\n",
      " [80.55 80.  ]\n",
      " [66.97 66.  ]\n",
      " [73.13 76.  ]\n",
      " [56.75 54.  ]\n",
      " [76.67 73.  ]\n",
      " [40.28 44.  ]\n",
      " [72.71 70.  ]\n",
      " [59.78 57.  ]\n",
      " [55.31 57.  ]\n",
      " [75.94 77.  ]\n",
      " [78.91 82.  ]\n",
      " [68.87 67.  ]\n",
      " [84.1  83.  ]\n",
      " [50.59 47.  ]\n",
      " [47.86 48.  ]\n",
      " [88.07 92.  ]\n",
      " [52.72 60.  ]\n",
      " [52.82 45.  ]\n",
      " [80.18 79.  ]\n",
      " [51.52 49.  ]\n",
      " [67.57 65.  ]\n",
      " [61.21 65.  ]\n",
      " [71.41 72.  ]\n",
      " [71.68 73.  ]\n",
      " [68.31 69.  ]\n",
      " [65.96 65.  ]\n",
      " [49.68 54.  ]\n",
      " [55.77 56.  ]\n",
      " [71.72 72.  ]\n",
      " [92.83 91.  ]\n",
      " [70.77 72.  ]\n",
      " [66.65 67.  ]\n",
      " [56.41 58.  ]\n",
      " [89.38 95.  ]\n",
      " [74.38 77.  ]\n",
      " [75.42 81.  ]\n",
      " [77.82 78.  ]\n",
      " [48.78 51.  ]\n",
      " [83.67 85.  ]\n",
      " [79.91 77.  ]\n",
      " [59.88 63.  ]\n",
      " [56.95 55.  ]\n",
      " [65.67 61.  ]\n",
      " [73.21 73.  ]\n",
      " [87.82 92.  ]\n",
      " [73.69 77.  ]\n",
      " [72.87 73.  ]\n",
      " [67.48 68.  ]\n",
      " [58.65 58.  ]\n",
      " [63.85 64.  ]\n",
      " [37.74 38.  ]\n",
      " [74.22 71.  ]\n",
      " [83.06 88.  ]\n",
      " [82.68 82.  ]\n",
      " [48.38 49.  ]\n",
      " [59.9  63.  ]\n",
      " [61.72 63.  ]\n",
      " [69.04 72.  ]\n",
      " [80.78 80.  ]\n",
      " [72.88 71.  ]\n",
      " [89.89 94.  ]\n",
      " [70.75 76.  ]\n",
      " [68.48 64.  ]\n",
      " [55.72 57.  ]\n",
      " [78.09 81.  ]\n",
      " [54.11 44.  ]\n",
      " [76.87 77.  ]\n",
      " [46.95 46.  ]\n",
      " [70.89 71.  ]\n",
      " [47.06 43.  ]\n",
      " [75.81 79.  ]\n",
      " [42.03 38.  ]\n",
      " [53.41 56.  ]\n",
      " [77.63 75.  ]\n",
      " [57.27 58.  ]\n",
      " [49.69 47.  ]\n",
      " [79.96 80.  ]\n",
      " [62.13 62.  ]\n",
      " [78.65 74.  ]\n",
      " [74.05 80.  ]\n",
      " [52.01 48.  ]\n",
      " [69.7  66.  ]\n",
      " [54.23 52.  ]\n",
      " [52.29 51.  ]\n",
      " [79.57 81.  ]\n",
      " [74.01 75.  ]\n",
      " [81.06 87.  ]\n",
      " [58.77 62.  ]\n",
      " [84.09 82.  ]\n",
      " [78.28 71.  ]\n",
      " [77.37 80.  ]\n",
      " [62.49 62.  ]\n",
      " [65.64 62.  ]\n",
      " [73.71 76.  ]\n",
      " [52.4  55.  ]\n",
      " [50.7  52.  ]\n",
      " [63.12 63.  ]\n",
      " [74.84 73.  ]\n",
      " [90.55 92.  ]\n",
      " [68.47 71.  ]\n",
      " [77.75 77.  ]\n",
      " [72.4  69.  ]\n",
      " [64.72 68.  ]\n",
      " [57.18 53.  ]\n",
      " [45.13 42.  ]\n",
      " [55.03 56.  ]\n",
      " [75.51 71.  ]\n",
      " [53.23 53.  ]\n",
      " [76.02 77.  ]\n",
      " [48.19 51.  ]\n",
      " [78.05 79.  ]\n",
      " [61.53 59.  ]\n",
      " [69.31 65.  ]\n",
      " [76.02 77.  ]\n",
      " [55.55 49.  ]\n",
      " [66.87 60.  ]\n",
      " [73.1  77.  ]\n",
      " [63.02 61.  ]\n",
      " [95.34 90.  ]\n",
      " [47.79 51.  ]\n",
      " [57.18 58.  ]\n",
      " [57.39 60.  ]\n",
      " [92.36 91.  ]\n",
      " [52.59 53.  ]\n",
      " [72.31 75.  ]\n",
      " [37.48 34.  ]\n",
      " [59.03 56.  ]\n",
      " [75.03 78.  ]\n",
      " [52.3  61.  ]\n",
      " [69.69 74.  ]\n",
      " [57.13 53.  ]\n",
      " [77.78 77.  ]\n",
      " [86.25 85.  ]\n",
      " [61.72 66.  ]\n",
      " [71.87 72.  ]\n",
      " [60.4  59.  ]\n",
      " [63.55 63.  ]\n",
      " [51.78 51.  ]\n",
      " [51.38 47.  ]\n",
      " [65.44 64.  ]\n",
      " [85.2  81.  ]\n",
      " [38.65 43.  ]\n",
      " [89.06 93.  ]\n",
      " [75.03 69.  ]\n",
      " [60.7  61.  ]\n",
      " [81.46 84.  ]\n",
      " [76.84 80.  ]\n",
      " [61.53 64.  ]\n",
      " [87.24 88.  ]\n",
      " [60.9  59.  ]\n",
      " [85.99 84.  ]\n",
      " [62.64 60.  ]\n",
      " [50.5  51.  ]\n",
      " [50.6  50.  ]\n",
      " [44.83 41.  ]\n",
      " [64.67 70.  ]\n",
      " [70.69 72.  ]\n",
      " [51.   52.  ]\n",
      " [82.15 86.  ]\n",
      " [69.31 62.  ]\n",
      " [58.67 61.  ]\n",
      " [48.78 52.  ]\n",
      " [74.12 70.  ]\n",
      " [43.9  42.  ]\n",
      " [90.8  95.  ]\n",
      " [89.97 94.  ]\n",
      " [57.25 56.  ]\n",
      " [61.21 62.  ]\n",
      " [73.61 77.  ]\n",
      " [72.1  70.  ]\n",
      " [41.12 44.  ]\n",
      " [81.46 83.  ]\n",
      " [77.84 79.  ]\n",
      " [77.44 78.  ]\n",
      " [53.73 53.  ]\n",
      " [58.17 51.  ]\n",
      " [76.91 76.  ]\n",
      " [59.97 63.  ]\n",
      " [54.93 54.  ]\n",
      " [56.32 56.  ]\n",
      " [62.94 63.  ]\n",
      " [58.88 61.  ]\n",
      " [93.27 99.  ]\n",
      " [68.96 68.  ]\n",
      " [71.95 73.  ]\n",
      " [88.15 91.  ]\n",
      " [83.16 81.  ]\n",
      " [61.86 63.  ]\n",
      " [61.5  64.  ]\n",
      " [49.71 45.  ]\n",
      " [40.26 39.  ]\n",
      " [65.86 64.  ]\n",
      " [46.63 49.  ]\n",
      " [57.83 54.  ]\n",
      " [56.76 57.  ]\n",
      " [75.83 82.  ]\n",
      " [47.78 49.  ]\n",
      " [59.28 57.  ]\n",
      " [56.48 56.  ]\n",
      " [72.12 68.  ]\n",
      " [58.58 58.  ]\n",
      " [44.25 40.  ]\n",
      " [51.91 51.  ]\n",
      " [61.82 64.  ]\n",
      " [54.4  57.  ]\n",
      " [60.4  61.  ]\n",
      " [66.85 66.  ]\n",
      " [44.25 43.  ]\n",
      " [83.18 87.  ]\n",
      " [66.77 64.  ]\n",
      " [56.75 59.  ]\n",
      " [69.86 66.  ]\n",
      " [52.4  49.  ]\n",
      " [49.1  51.  ]\n",
      " [67.13 67.  ]\n",
      " [68.75 69.  ]\n",
      " [48.29 51.  ]\n",
      " [42.11 45.  ]\n",
      " [73.21 75.  ]\n",
      " [66.33 69.  ]\n",
      " [60.32 59.  ]\n",
      " [50.11 47.  ]\n",
      " [81.18 80.  ]\n",
      " [58.12 55.  ]\n",
      " [78.93 79.  ]\n",
      " [61.22 61.  ]\n",
      " [69.9  66.  ]\n",
      " [55.85 57.  ]\n",
      " [71.64 73.  ]\n",
      " [66.97 74.  ]\n",
      " [51.51 47.  ]\n",
      " [50.19 49.  ]\n",
      " [63.54 67.  ]\n",
      " [64.32 65.  ]\n",
      " [56.26 63.  ]\n",
      " [85.09 80.  ]\n",
      " [60.77 58.  ]\n",
      " [59.41 61.  ]\n",
      " [67.49 65.  ]\n",
      " [58.77 59.  ]\n",
      " [61.12 61.  ]\n",
      " [66.58 63.  ]\n",
      " [59.71 55.  ]\n",
      " [95.13 93.  ]\n",
      " [82.47 76.  ]\n",
      " [55.13 55.  ]\n",
      " [58.67 61.  ]\n",
      " [65.35 66.  ]\n",
      " [78.45 78.  ]\n",
      " [61.1  59.  ]\n",
      " [55.55 57.  ]\n",
      " [61.8  62.  ]\n",
      " [67.96 68.  ]\n",
      " [65.86 69.  ]\n",
      " [61.72 63.  ]\n",
      " [78.66 79.  ]\n",
      " [51.   48.  ]\n",
      " [73.42 76.  ]\n",
      " [43.02 42.  ]\n",
      " [67.66 70.  ]\n",
      " [43.42 45.  ]\n",
      " [49.86 48.  ]\n",
      " [56.87 60.  ]\n",
      " [79.95 80.  ]\n",
      " [77.58 74.  ]\n",
      " [53.11 51.  ]\n",
      " [44.84 43.  ]\n",
      " [54.93 56.  ]\n",
      " [65.67 69.  ]\n",
      " [64.4  68.  ]\n",
      " [61.22 56.  ]\n",
      " [72.12 72.  ]\n",
      " [59.56 60.  ]\n",
      " [63.04 61.  ]\n",
      " [70.88 74.  ]\n",
      " [77.43 78.  ]\n",
      " [75.02 74.  ]\n",
      " [64.45 61.  ]\n",
      " [92.41 95.  ]\n",
      " [69.6  70.  ]\n",
      " [80.39 84.  ]\n",
      " [74.03 75.  ]\n",
      " [80.96 78.  ]\n",
      " [41.12 41.  ]\n",
      " [50.92 48.  ]\n",
      " [54.22 50.  ]\n",
      " [76.42 80.  ]\n",
      " [48.19 48.  ]\n",
      " [50.09 47.  ]\n",
      " [82.05 84.  ]\n",
      " [64.53 67.  ]\n",
      " [66.09 69.  ]\n",
      " [74.38 74.  ]\n",
      " [53.39 56.  ]\n",
      " [69.97 68.  ]\n",
      " [53.41 61.  ]\n",
      " [90.1  95.  ]\n",
      " [68.38 67.  ]\n",
      " [77.51 73.  ]\n",
      " [86.85 89.  ]\n",
      " [66.66 65.  ]\n",
      " [73.71 74.  ]\n",
      " [55.31 59.  ]\n",
      " [61.76 67.  ]\n",
      " [78.58 77.  ]\n",
      " [78.83 71.  ]\n",
      " [85.91 83.  ]\n",
      " [82.37 78.  ]\n",
      " [77.64 79.  ]\n",
      " [62.32 61.  ]\n",
      " [74.94 75.  ]\n",
      " [82.6  85.  ]\n",
      " [69.   68.  ]\n",
      " [62.94 68.  ]\n",
      " [56.36 55.  ]\n",
      " [69.07 76.  ]\n",
      " [89.97 91.  ]\n",
      " [57.66 58.  ]\n",
      " [67.88 68.  ]\n",
      " [89.28 92.  ]\n",
      " [63.33 68.  ]\n",
      " [68.99 69.  ]\n",
      " [54.22 53.  ]\n",
      " [57.46 60.  ]\n",
      " [70.3  67.  ]\n",
      " [75.56 75.  ]\n",
      " [48.28 46.  ]\n",
      " [63.89 69.  ]\n",
      " [84.09 86.  ]\n",
      " [88.41 85.  ]\n",
      " [41.12 40.  ]\n",
      " [92.37 85.  ]\n",
      " [82.27 82.  ]\n",
      " [86.83 87.  ]\n",
      " [80.86 87.  ]\n",
      " [74.65 85.  ]\n",
      " [82.05 79.  ]\n",
      " [50.61 54.  ]\n",
      " [55.31 53.  ]\n",
      " [68.93 72.  ]\n",
      " [81.47 79.  ]\n",
      " [55.37 59.  ]\n",
      " [90.41 87.  ]\n",
      " [39.37 40.  ]\n",
      " [69.49 70.  ]\n",
      " [55.57 57.  ]\n",
      " [94.18 95.  ]\n",
      " [60.82 61.  ]\n",
      " [73.93 76.  ]\n",
      " [78.65 77.  ]\n",
      " [46.95 47.  ]\n",
      " [50.5  50.  ]\n",
      " [74.37 77.  ]\n",
      " [62.77 60.  ]\n",
      " [57.76 58.  ]\n",
      " [66.95 69.  ]\n",
      " [58.85 60.  ]\n",
      " [84.09 88.  ]\n",
      " [69.97 68.  ]\n",
      " [61.29 60.  ]\n",
      " [80.48 79.  ]\n",
      " [49.49 49.  ]\n",
      " [53.63 61.  ]\n",
      " [50.4  50.  ]\n",
      " [59.13 62.  ]]\n"
     ]
    }
   ],
   "source": [
    "y_pred = regressor.predict(X_test)\n",
    "np.set_printoptions(precision=2)\n",
    "reshaped_y_pred = y_pred.reshape(len(y_pred), 1)\n",
    "reshaped_y_test = y_test.values.reshape(len(y_test), 1)\n",
    "print(np.concatenate((reshaped_y_pred, reshaped_y_test), 1))\n",
    "# regressor.coef_ @ X[] + regressor.intercept_\n",
    "\n",
    "# On the left is predicted score according to model, on the right is actual score."
   ]
  },
  {
   "cell_type": "code",
   "execution_count": 113,
   "id": "11598e58",
   "metadata": {},
   "outputs": [
    {
     "name": "stdout",
     "output_type": "stream",
     "text": [
      "72.0\n"
     ]
    }
   ],
   "source": [
    "print(y[0]) #Actual score of first student"
   ]
  },
  {
   "cell_type": "code",
   "execution_count": 81,
   "id": "82f61e6a",
   "metadata": {},
   "outputs": [],
   "source": [
    "y_pred = regressor.predict(X[0].reshape(1,-1))\n",
    "# np.set_printoptions(precision=2)\n",
    "# reshaped_y_pred = y_pred.reshape(len(y_pred), 1)\n",
    "# reshaped_y_test = y_test.values.reshape(len(y_test), 1)\n",
    "# print(np.concatenate((reshaped_y_pred, reshaped_y_test), 1))"
   ]
  },
  {
   "cell_type": "code",
   "execution_count": 114,
   "id": "6904ae57",
   "metadata": {},
   "outputs": [
    {
     "data": {
      "text/plain": [
       "array([71.97])"
      ]
     },
     "execution_count": 114,
     "metadata": {},
     "output_type": "execute_result"
    }
   ],
   "source": [
    "y_pred # 71.97 is predicted score according to model."
   ]
  },
  {
   "cell_type": "code",
   "execution_count": 83,
   "id": "d35332ac",
   "metadata": {},
   "outputs": [
    {
     "name": "stdout",
     "output_type": "stream",
     "text": [
      "[[ 0.  0.  1.  1.  0.  0.  1.  1.  0.  1.  0. 20. 62.]]\n"
     ]
    }
   ],
   "source": [
    "print(X[0].reshape(1,-1))"
   ]
  },
  {
   "cell_type": "code",
   "execution_count": 84,
   "id": "dff0e66f",
   "metadata": {},
   "outputs": [
    {
     "data": {
      "text/plain": [
       "array([-0.00e+00,  0.00e+00, -2.08e-02, -2.03e-02,  0.00e+00,  0.00e+00,\n",
       "       -2.97e+00,  4.09e-02, -0.00e+00,  4.55e-01, -0.00e+00, -2.01e+00,\n",
       "        5.64e+01])"
      ]
     },
     "execution_count": 84,
     "metadata": {},
     "output_type": "execute_result"
    }
   ],
   "source": [
    "a = (regressor.coef_)*(X[0])\n",
    "a"
   ]
  },
  {
   "cell_type": "code",
   "execution_count": 85,
   "id": "be3de414",
   "metadata": {},
   "outputs": [
    {
     "data": {
      "text/plain": [
       "51.84039116159066"
      ]
     },
     "execution_count": 85,
     "metadata": {},
     "output_type": "execute_result"
    }
   ],
   "source": [
    "b = sum(a)\n",
    "b"
   ]
  },
  {
   "cell_type": "code",
   "execution_count": 86,
   "id": "626042e1",
   "metadata": {},
   "outputs": [
    {
     "name": "stdout",
     "output_type": "stream",
     "text": [
      "71.96986929006391\n"
     ]
    }
   ],
   "source": [
    "print(b +regressor.intercept_)"
   ]
  },
  {
   "cell_type": "code",
   "execution_count": 99,
   "id": "4d9470dd",
   "metadata": {},
   "outputs": [
    {
     "name": "stdout",
     "output_type": "stream",
     "text": [
      "[-0.45  0.47 -0.02 -0.02  0.02  2.97 -2.97  0.04 -0.04  0.46 -0.46 -0.1\n",
      "  0.91]\n",
      "20.129478128473245\n"
     ]
    }
   ],
   "source": [
    "print(regressor.coef_)\n",
    "print(regressor.intercept_)"
   ]
  },
  {
   "cell_type": "markdown",
   "id": "4e0cc8df",
   "metadata": {},
   "source": [
    "## Regression Equation\n",
    "\n",
    "Student Test Score = 20.13 - 0.45(Rural) + 0.47(Suburban) - 0.02(Urban) - 0.02(Non-public) + 0.02(Public) + 2.97(Experimental) - 2.97(Standard) + 0.04(Female) - 0.04(Male) + 0.46(Doesn't Qualify) -0.46(Qualifies for Free Lunch) -0.1(Class Size) +0.91(Pretest Score)\n",
    "\n",
    "Analysis: Biggest predictor of test score is pretest score, generally if a student does well on the pretest, they do well on the actual test. Suburban schools tend to perform the best, while interestingly public schools performs slightly better than non-public schools. Experimental teaching tend to perform better than standard teaching. This could be due to the fact experimental teaching is different hence students are more likely to pay attention in class. Those that don't qualify for free school lunch also performs better. A reason for this is that students that don't qualify for free/reduced school lunch are wealthier, hence can devote more resources to education.\n",
    "\n",
    "Limitations: As dataset is from a public source, more caution needs to be excerised when drawing conclusions. Additonal variables could be at play to determine to student's score. "
   ]
  }
 ],
 "metadata": {
  "kernelspec": {
   "display_name": "Python 3 (ipykernel)",
   "language": "python",
   "name": "python3"
  },
  "language_info": {
   "codemirror_mode": {
    "name": "ipython",
    "version": 3
   },
   "file_extension": ".py",
   "mimetype": "text/x-python",
   "name": "python",
   "nbconvert_exporter": "python",
   "pygments_lexer": "ipython3",
   "version": "3.9.6"
  }
 },
 "nbformat": 4,
 "nbformat_minor": 5
}
